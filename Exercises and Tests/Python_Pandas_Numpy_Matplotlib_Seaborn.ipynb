{
  "nbformat": 4,
  "nbformat_minor": 0,
  "metadata": {
    "colab": {
      "provenance": [],
      "authorship_tag": "ABX9TyPFVh8D5/9QpUKdA25/J3e9",
      "include_colab_link": true
    },
    "kernelspec": {
      "name": "python3",
      "display_name": "Python 3"
    },
    "language_info": {
      "name": "python"
    }
  },
  "cells": [
    {
      "cell_type": "markdown",
      "metadata": {
        "id": "view-in-github",
        "colab_type": "text"
      },
      "source": [
        "<a href=\"https://colab.research.google.com/github/FabioLofredo/Exercises-for-Data-Science/blob/main/Python_Pandas_Numpy_Matplotlib_Seaborn.ipynb\" target=\"_parent\"><img src=\"https://colab.research.google.com/assets/colab-badge.svg\" alt=\"Open In Colab\"/></a>"
      ]
    },
    {
      "cell_type": "code",
      "source": [
        "import pandas as pd\n",
        "import numpy as np\n",
        "import matplotlib.pyplot as plt\n",
        "import seaborn as sns"
      ],
      "metadata": {
        "id": "IX01MpF45Apz"
      },
      "execution_count": null,
      "outputs": []
    },
    {
      "cell_type": "markdown",
      "source": [
        "#Pandas\n"
      ],
      "metadata": {
        "id": "mmCCzycw7Ez6"
      }
    },
    {
      "cell_type": "markdown",
      "source": [
        "##Series"
      ],
      "metadata": {
        "id": "HH9GUnjpE7ZF"
      }
    },
    {
      "cell_type": "markdown",
      "source": [
        "https://pandas.pydata.org/docs/reference/api/pandas.Series.html"
      ],
      "metadata": {
        "id": "qalvGzgb2dkz"
      }
    },
    {
      "cell_type": "code",
      "source": [
        "#Exemplo básico\n",
        "x = [10,20,30] # funciona com tuplas, mas não funciona com set\n",
        "serie = pd.Series(x)\n",
        "print(serie)\n",
        "print(serie[0])\n",
        "print(type(serie))\n",
        "print(serie.value_counts())\n",
        "#não funciona iloc nem loc: print(serie.iloc(2))\n",
        "print(serie.dtype)\n"
      ],
      "metadata": {
        "colab": {
          "base_uri": "https://localhost:8080/"
        },
        "id": "TnMI48Cc8DDR",
        "outputId": "0351e51b-1cbc-4f68-b6e9-5b918b731d32"
      },
      "execution_count": null,
      "outputs": [
        {
          "output_type": "stream",
          "name": "stdout",
          "text": [
            "0    10\n",
            "1    20\n",
            "2    30\n",
            "dtype: int64\n",
            "10\n",
            "<class 'pandas.core.series.Series'>\n",
            "10    1\n",
            "20    1\n",
            "30    1\n",
            "dtype: int64\n",
            "int64\n"
          ]
        }
      ]
    },
    {
      "cell_type": "code",
      "source": [],
      "metadata": {
        "id": "5ACm78MkDfef"
      },
      "execution_count": null,
      "outputs": []
    },
    {
      "cell_type": "code",
      "source": [
        "#Com nome\n",
        "x = [10,20,30] # funciona com tuplas, mas não funciona com set\n",
        "serie = pd.Series(x, name=\"valores\")\n",
        "print(serie)"
      ],
      "metadata": {
        "colab": {
          "base_uri": "https://localhost:8080/"
        },
        "id": "QCykDejoI8KU",
        "outputId": "74edfef4-cfc0-4485-cff9-7c5f2603f31e"
      },
      "execution_count": null,
      "outputs": [
        {
          "output_type": "stream",
          "name": "stdout",
          "text": [
            "0    10\n",
            "1    20\n",
            "2    30\n",
            "Name: valores, dtype: int64\n"
          ]
        }
      ]
    },
    {
      "cell_type": "code",
      "source": [
        "#Com índice e valores\n",
        "x = [10,20,30] # funciona com tuplas, mas não funciona com set\n",
        "y = [\"a\",\"b\",\"c\"] # funcionar com tuplas e set\n",
        "serie = pd.Series(x,index = y)\n",
        "print(serie)\n",
        "print(serie[\"a\"]) #gera erro: print(serie[0]]) "
      ],
      "metadata": {
        "colab": {
          "base_uri": "https://localhost:8080/"
        },
        "id": "B3SS0aKd8_lI",
        "outputId": "5bd32e4b-b1ce-42c8-c8d1-30071e151d29"
      },
      "execution_count": null,
      "outputs": [
        {
          "output_type": "stream",
          "name": "stdout",
          "text": [
            "a    10\n",
            "b    20\n",
            "c    30\n",
            "dtype: int64\n",
            "10\n"
          ]
        }
      ]
    },
    {
      "cell_type": "code",
      "source": [
        "#Com dicionário\n",
        "x = {10:\"a\",20:\"b\",30:\"c\"} #funciona diferente: x = {'letras':[\"a\",\"b\",\"c\",\"d\",\"e\"],'valores':[10,20,30,40,50]}\n",
        "serie = pd.Series(x)\n",
        "print(serie)"
      ],
      "metadata": {
        "colab": {
          "base_uri": "https://localhost:8080/"
        },
        "id": "YVWKIqGD9uw5",
        "outputId": "fa8474e9-f28f-44ad-f95d-ddec61d10407"
      },
      "execution_count": null,
      "outputs": [
        {
          "output_type": "stream",
          "name": "stdout",
          "text": [
            "10    a\n",
            "20    b\n",
            "30    c\n",
            "dtype: object\n"
          ]
        }
      ]
    },
    {
      "cell_type": "code",
      "source": [
        "#Com numpy\n",
        "x = np.arange(5)\n",
        "y = np.random.randint(10, size= 5)\n",
        "serie = pd.Series(y, index= x)\n",
        "print(serie)"
      ],
      "metadata": {
        "colab": {
          "base_uri": "https://localhost:8080/"
        },
        "id": "BCZMq41QFb0i",
        "outputId": "efc5113b-ead5-4ca2-8232-c2febdaaee96"
      },
      "execution_count": null,
      "outputs": [
        {
          "output_type": "stream",
          "name": "stdout",
          "text": [
            "0    2\n",
            "1    7\n",
            "2    4\n",
            "3    5\n",
            "4    8\n",
            "dtype: int64\n"
          ]
        }
      ]
    },
    {
      "cell_type": "markdown",
      "source": [
        "##DataFrame"
      ],
      "metadata": {
        "id": "zZ9ZRrLUE_ZS"
      }
    },
    {
      "cell_type": "markdown",
      "source": [
        "https://pandas.pydata.org/docs/reference/frame.html"
      ],
      "metadata": {
        "id": "wqrLTJSI2k05"
      }
    },
    {
      "cell_type": "code",
      "source": [
        "#Exemplo básico\n",
        "x = [\"a\",\"b\",\"c\"]\n",
        "df = pd.DataFrame(x)\n",
        "print(df)\n",
        "print(\"---1---\")\n",
        "print(df.loc[1])\n",
        "print(\"---2---\")\n",
        "print(df.loc[[0,1]])\n",
        "print(\"---3---\")\n",
        "print(df.iloc[1])"
      ],
      "metadata": {
        "colab": {
          "base_uri": "https://localhost:8080/"
        },
        "id": "M0DwLKkhQnA9",
        "outputId": "99704d67-d966-4bc0-ba90-4f63a2bfff74"
      },
      "execution_count": null,
      "outputs": [
        {
          "output_type": "stream",
          "name": "stdout",
          "text": [
            "   0\n",
            "0  a\n",
            "1  b\n",
            "2  c\n",
            "---1---\n",
            "0    b\n",
            "Name: 1, dtype: object\n",
            "---2---\n",
            "   0\n",
            "0  a\n",
            "1  b\n",
            "---3---\n",
            "0    b\n",
            "Name: 1, dtype: object\n"
          ]
        }
      ]
    },
    {
      "cell_type": "code",
      "source": [
        "#Exemplo básico com index\n",
        "y = [\"a\",\"b\",\"c\"]\n",
        "x = [10,20,30]\n",
        "df = pd.DataFrame(x,index=y)\n",
        "print(df)\n",
        "print(\"---1---\")\n",
        "print(df.loc[\"a\"])"
      ],
      "metadata": {
        "id": "uIn5-LGnIg7_",
        "colab": {
          "base_uri": "https://localhost:8080/"
        },
        "outputId": "c42bdb9a-4df0-47f5-d97c-7a2fbcece280"
      },
      "execution_count": null,
      "outputs": [
        {
          "output_type": "stream",
          "name": "stdout",
          "text": [
            "    0\n",
            "a  10\n",
            "b  20\n",
            "c  30\n",
            "---1---\n",
            "0    10\n",
            "Name: a, dtype: int64\n"
          ]
        }
      ]
    },
    {
      "cell_type": "code",
      "source": [
        "#Exemplo dicionário\n",
        "x = {'letras':[\"a\",\"b\",\"c\"],'valores':[10,20,30]}\n",
        "df = pd.DataFrame(x)\n",
        "print(df)\n",
        "y = {'letras':['a'],'valores':[10]}#só funciona se definir também um index: y = {'letras':'a','valores':10}\n",
        "df2 = pd.DataFrame(y)\n",
        "print(df2)"
      ],
      "metadata": {
        "colab": {
          "base_uri": "https://localhost:8080/"
        },
        "id": "98mCHXTl8WXJ",
        "outputId": "d29a491b-6ada-48c4-9145-d799308b46b0"
      },
      "execution_count": null,
      "outputs": [
        {
          "output_type": "stream",
          "name": "stdout",
          "text": [
            "  letras  valores\n",
            "0      a       10\n",
            "1      b       20\n",
            "2      c       30\n",
            "  letras  valores\n",
            "0      a       10\n"
          ]
        }
      ]
    },
    {
      "cell_type": "code",
      "source": [
        "#formas diferentes de criar\n",
        "sales = {'Jones': 10000,\n",
        "         'Chris': 5000,\n",
        "         'Piyush': 440,\n",
        "         'Meera': 6700,\n",
        "         'Rahul': 300\n",
        "        }\n",
        "serie = pd.Series(sales)\n",
        "df = pd.DataFrame(sales.values(),index = sales.keys())\n",
        "df.rename(columns ={0:'sales'},inplace=True)\n",
        "print(df)\n",
        "df = pd.DataFrame(serie)\n",
        "df.rename(columns ={0:'sales'},inplace=True)\n",
        "print(df)\n",
        "df = pd.DataFrame.from_dict(sales,orient=\"index\",columns=[\"sales\"])\n",
        "print(df)"
      ],
      "metadata": {
        "colab": {
          "base_uri": "https://localhost:8080/"
        },
        "id": "mBby2I-wu7GD",
        "outputId": "a521f4c4-1dae-418e-8783-35b169c13ac4"
      },
      "execution_count": null,
      "outputs": [
        {
          "output_type": "stream",
          "name": "stdout",
          "text": [
            "        sales\n",
            "Jones   10000\n",
            "Chris    5000\n",
            "Piyush    440\n",
            "Meera    6700\n",
            "Rahul     300\n",
            "        sales\n",
            "Jones   10000\n",
            "Chris    5000\n",
            "Piyush    440\n",
            "Meera    6700\n",
            "Rahul     300\n",
            "        sales\n",
            "Jones   10000\n",
            "Chris    5000\n",
            "Piyush    440\n",
            "Meera    6700\n",
            "Rahul     300\n"
          ]
        }
      ]
    },
    {
      "cell_type": "code",
      "source": [
        "#mudando index\n",
        "x = {'letras':[\"a\",\"b\",\"c\"],'var1':[1,2,3],'var2':[10,20,30],'var3':[100,200,300]}\n",
        "y = [\"d1\", \"d2\", \"d3\"]\n",
        "df = pd.DataFrame(x, index = y)\n",
        "print(df) \n",
        "print(\"---1---\")\n",
        "print(df.loc[\"d1\"]) \n",
        "print(df.iloc[0])\n",
        "print(\"---2---\")   \n",
        "print(df[\"var1\"]) #selecionando coluna\n",
        "print(\"---3---\")   \n",
        "print(df[[\"var2\",\"var3\"]]) #selecionando colunas\n"
      ],
      "metadata": {
        "colab": {
          "base_uri": "https://localhost:8080/"
        },
        "id": "BtX5TdDNFNcB",
        "outputId": "73cceb2a-3324-4552-f2d4-10395a9407ac"
      },
      "execution_count": null,
      "outputs": [
        {
          "output_type": "stream",
          "name": "stdout",
          "text": [
            "   letras  var1  var2  var3\n",
            "d1      a     1    10   100\n",
            "d2      b     2    20   200\n",
            "d3      c     3    30   300\n",
            "---1---\n",
            "letras      a\n",
            "var1        1\n",
            "var2       10\n",
            "var3      100\n",
            "Name: d1, dtype: object\n",
            "letras      a\n",
            "var1        1\n",
            "var2       10\n",
            "var3      100\n",
            "Name: d1, dtype: object\n",
            "---2---\n",
            "d1    1\n",
            "d2    2\n",
            "d3    3\n",
            "Name: var1, dtype: int64\n",
            "---3---\n",
            "    var2  var3\n",
            "d1    10   100\n",
            "d2    20   200\n",
            "d3    30   300\n"
          ]
        }
      ]
    },
    {
      "cell_type": "code",
      "source": [
        "#adicionar e tirar \n",
        "col = [\"C1\",\"C2\",\"C3\"]\n",
        "row = [\"R1\",\"R2\",\"R3\",\"R4\",\"R5\"]\n",
        "df = pd.DataFrame(np.random.randn(5,3), index=row, columns=col)\n",
        "print(df)\n",
        "df[\"NewC\"]= np.random.randn(5,1)\n",
        "df[\"NewC2\"]= df[\"C1\"]*2\n",
        "print(df)\n",
        "df.drop(\"C1\",axis=1,inplace=True) # df2 = df.drop(\"C1\",axis=1)\n",
        "print(df)\n",
        "df.drop(\"R1\",axis=0,inplace=True)\n",
        "print(df)\n",
        "df.loc[len(df)] = [1,2,3,4] #adicionar linha\n",
        "df.loc[len(df)] = [2,4,8,4] #adicionar linha\n",
        "print(df)\n",
        "pd.DataFrame.value_counts\n",
        "df.describe()\n",
        "\n",
        "for index_data,values_data in df.iterrows():\n",
        "  print(index_data)"
      ],
      "metadata": {
        "colab": {
          "base_uri": "https://localhost:8080/"
        },
        "id": "cXi40ooeQF7T",
        "outputId": "470bbe4a-2deb-4a0b-cee5-aefa45849ab6"
      },
      "execution_count": null,
      "outputs": [
        {
          "output_type": "stream",
          "name": "stdout",
          "text": [
            "          C1        C2        C3\n",
            "R1 -0.778336 -1.388078  0.277999\n",
            "R2 -0.996970 -1.082015 -0.141732\n",
            "R3 -0.588678  1.113262 -0.462413\n",
            "R4  0.814916  0.613203  0.894679\n",
            "R5 -0.322926 -0.534100 -1.263532\n",
            "          C1        C2        C3      NewC     NewC2\n",
            "R1 -0.778336 -1.388078  0.277999 -0.351360 -1.556671\n",
            "R2 -0.996970 -1.082015 -0.141732  0.766752 -1.993940\n",
            "R3 -0.588678  1.113262 -0.462413 -2.168540 -1.177357\n",
            "R4  0.814916  0.613203  0.894679 -0.860277  1.629832\n",
            "R5 -0.322926 -0.534100 -1.263532 -0.804343 -0.645853\n",
            "          C2        C3      NewC     NewC2\n",
            "R1 -1.388078  0.277999 -0.351360 -1.556671\n",
            "R2 -1.082015 -0.141732  0.766752 -1.993940\n",
            "R3  1.113262 -0.462413 -2.168540 -1.177357\n",
            "R4  0.613203  0.894679 -0.860277  1.629832\n",
            "R5 -0.534100 -1.263532 -0.804343 -0.645853\n",
            "          C2        C3      NewC     NewC2\n",
            "R2 -1.082015 -0.141732  0.766752 -1.993940\n",
            "R3  1.113262 -0.462413 -2.168540 -1.177357\n",
            "R4  0.613203  0.894679 -0.860277  1.629832\n",
            "R5 -0.534100 -1.263532 -0.804343 -0.645853\n",
            "          C2        C3      NewC     NewC2\n",
            "R2 -1.082015 -0.141732  0.766752 -1.993940\n",
            "R3  1.113262 -0.462413 -2.168540 -1.177357\n",
            "R4  0.613203  0.894679 -0.860277  1.629832\n",
            "R5 -0.534100 -1.263532 -0.804343 -0.645853\n",
            "4   1.000000  2.000000  3.000000  4.000000\n",
            "5   2.000000  4.000000  8.000000  4.000000\n",
            "R2\n",
            "R3\n",
            "R4\n",
            "R5\n",
            "4\n",
            "5\n"
          ]
        }
      ]
    },
    {
      "cell_type": "code",
      "source": [
        "#reset index\n",
        "col = [\"C1\",\"C2\",\"C3\"]\n",
        "row = [\"R1\",\"R2\",\"R3\",\"R4\",\"R5\"]\n",
        "df = pd.DataFrame(np.random.randn(5,3), index=row, columns=col)\n",
        "print(df)\n",
        "print(df.index)\n",
        "print(df.columns)\n",
        "print('---0---')\n",
        "\n",
        "# coluna para index\n",
        "#df.set_index(\"C3\",inplace=True) \n",
        "\n",
        "#renomear\n",
        "#df.rename(columns={\"C1\":\"CC1\",\"C2\":\"CC2\"},index={'R1':'RR1'},inplace=True) \n",
        "\n",
        "\n",
        "print(df)\n"
      ],
      "metadata": {
        "colab": {
          "base_uri": "https://localhost:8080/"
        },
        "id": "OiS-z0RvVhGP",
        "outputId": "02d1c2b2-4b4f-4fe6-b693-9131ee927c8a"
      },
      "execution_count": null,
      "outputs": [
        {
          "output_type": "stream",
          "name": "stdout",
          "text": [
            "          C1        C2        C3\n",
            "R1 -1.968312  0.222136 -0.090069\n",
            "R2 -0.561146 -1.383198 -0.975623\n",
            "R3  1.160928  0.278795 -0.819413\n",
            "R4 -1.492037  0.233557 -1.104169\n",
            "R5 -0.482193  2.302356  1.120708\n",
            "Index(['R1', 'R2', 'R3', 'R4', 'R5'], dtype='object')\n",
            "Index(['C1', 'C2', 'C3'], dtype='object')\n",
            "---0---\n",
            "          C1        C2        C3\n",
            "R1 -1.968312  0.222136 -0.090069\n",
            "R2 -0.561146 -1.383198 -0.975623\n",
            "R3  1.160928  0.278795 -0.819413\n",
            "R4 -1.492037  0.233557 -1.104169\n",
            "R5 -0.482193  2.302356  1.120708\n"
          ]
        }
      ]
    },
    {
      "cell_type": "markdown",
      "source": [
        "##Playing with data"
      ],
      "metadata": {
        "id": "cQmkO1SGjIK_"
      }
    },
    {
      "cell_type": "code",
      "source": [
        "\n",
        "x = {'letras':[\"a\",None,\"c\",None,None],'var1':[1,2,3,4,None],'var2':[10,20,30,40,None],'var3':[100,200,300,400,None],'date':[\"10/10/10\",\"11/11/11\",'12/12/12','13/01/13','14/02/14']}\n",
        "y = [\"d1\", \"d2\",None,None, \"d3\"]\n",
        "df = pd.DataFrame(x, index = y)\n",
        "print(df)\n",
        "print('---0---')\n",
        "df['date']= pd.to_datetime(df['date'])\n",
        "print('---1---')\n",
        "print(df)\n",
        "print('---2---')\n",
        "#print(df.tail(2))\n",
        "#print(df.head(2))\n",
        "#df.fillna(1)\n",
        "#df.dropna()\n",
        "#df.dropna(subset=['var1'], inplace = True)\n",
        "#print(df.isna())\n",
        "#print(df.isnull())\n",
        "#print(df.isnull().sum())\n",
        "#print(df.describe())\n",
        "#print(df.describe().T)\n",
        "#print(df['var2'].max())\n",
        "#print(df[[\"var1\",\"var2\",\"var3\"]][\"var2\"])\n",
        "#print(df[df['var2']>20])\n",
        "\n",
        "#print(df[(df['var2']>20) & (df[\"var3\"]>300)])\n",
        "#print(df.sort_values(by=\"var2\",ascending=False))\n",
        "#print(df.sort_index())\n",
        "#print(df.groupby(\"letras\").count()) # funciona com .sum() .mean()\n",
        "print(\"---3---\")\n",
        "#print(df[\"letras\"].value_counts())\n",
        "#print(df.groupby(\"letras\"))\n",
        "#print(df.info())\n",
        "\n",
        "\n",
        "\n",
        "#print(df)"
      ],
      "metadata": {
        "colab": {
          "base_uri": "https://localhost:8080/"
        },
        "id": "ajCDMTCOwmxT",
        "outputId": "d874223b-de57-4eea-9b8a-73f7836df406"
      },
      "execution_count": null,
      "outputs": [
        {
          "output_type": "stream",
          "name": "stdout",
          "text": [
            "    letras  var1  var2   var3      date\n",
            "d1       a   1.0  10.0  100.0  10/10/10\n",
            "d2    None   2.0  20.0  200.0  11/11/11\n",
            "NaN      c   3.0  30.0  300.0  12/12/12\n",
            "NaN   None   4.0  40.0  400.0  13/01/13\n",
            "d3    None   NaN   NaN    NaN  14/02/14\n",
            "---0---\n",
            "---1---\n",
            "    letras  var1  var2   var3       date\n",
            "d1       a   1.0  10.0  100.0 2010-10-10\n",
            "d2    None   2.0  20.0  200.0 2011-11-11\n",
            "NaN      c   3.0  30.0  300.0 2012-12-12\n",
            "NaN   None   4.0  40.0  400.0 2013-01-13\n",
            "d3    None   NaN   NaN    NaN 2014-02-14\n",
            "---2---\n",
            "---3---\n"
          ]
        }
      ]
    },
    {
      "cell_type": "code",
      "source": [
        "#formas diferentes de criar\n",
        "d1 = {'aaa': 100,'bbb': 200,'ccc': 300,'ddd': 400,'eee': 500}\n",
        "d2 = {'aaa': 'Zzz',\"BBB\": 'Www','CCC': 'Yyy','DDD': 'Xxx','EEE': 'Çcc'}\n",
        "df1 = pd.DataFrame.from_dict(d1,orient=\"index\",columns=[\"DF1\"])\n",
        "df2 = pd.DataFrame.from_dict(d2,orient=\"index\",columns=[\"DF2\"])\n",
        "print(df1)\n",
        "print(df2)\n",
        "print(\"--------\")\n",
        "print(df2.join(df1, how='left'))\n",
        "print(df2.join(df1, how='right'))\n",
        "print(\"--------\")\n",
        "print(df2.join(df1, how='inner'))\n",
        "print(df2.join(df1, how='outer'))"
      ],
      "metadata": {
        "colab": {
          "base_uri": "https://localhost:8080/"
        },
        "id": "3rSWGJEbwm2E",
        "outputId": "bee8fe10-a157-472b-f227-1503c6749ebd"
      },
      "execution_count": null,
      "outputs": [
        {
          "output_type": "stream",
          "name": "stdout",
          "text": [
            "     DF1\n",
            "aaa  100\n",
            "bbb  200\n",
            "ccc  300\n",
            "ddd  400\n",
            "eee  500\n",
            "     DF2\n",
            "aaa  Zzz\n",
            "BBB  Www\n",
            "CCC  Yyy\n",
            "DDD  Xxx\n",
            "EEE  Çcc\n",
            "--------\n",
            "     DF2    DF1\n",
            "aaa  Zzz  100.0\n",
            "BBB  Www    NaN\n",
            "CCC  Yyy    NaN\n",
            "DDD  Xxx    NaN\n",
            "EEE  Çcc    NaN\n",
            "     DF2  DF1\n",
            "aaa  Zzz  100\n",
            "bbb  NaN  200\n",
            "ccc  NaN  300\n",
            "ddd  NaN  400\n",
            "eee  NaN  500\n",
            "--------\n",
            "     DF2  DF1\n",
            "aaa  Zzz  100\n",
            "     DF2    DF1\n",
            "BBB  Www    NaN\n",
            "CCC  Yyy    NaN\n",
            "DDD  Xxx    NaN\n",
            "EEE  Çcc    NaN\n",
            "aaa  Zzz  100.0\n",
            "bbb  NaN  200.0\n",
            "ccc  NaN  300.0\n",
            "ddd  NaN  400.0\n",
            "eee  NaN  500.0\n"
          ]
        }
      ]
    },
    {
      "cell_type": "markdown",
      "source": [
        "## Join Merge"
      ],
      "metadata": {
        "id": "ZRv3LSLjEzSi"
      }
    },
    {
      "cell_type": "code",
      "source": [
        "#concatenar\n",
        "df1 = pd.DataFrame({'a':[1,2,3],'b':[4,5,6],'c':[7,8,9]})\n",
        "df2 = pd.DataFrame({'b':[10,20,30],'c':[40,50,60],'d':[70,80,90]})\n",
        "print(pd.concat([df1,df2]))\n",
        "print(pd.concat([df1,df2],axis=1))"
      ],
      "metadata": {
        "colab": {
          "base_uri": "https://localhost:8080/"
        },
        "id": "ayZqhCw_E3O8",
        "outputId": "b7e9cff4-c029-4215-e486-fa32bbeb6ec6"
      },
      "execution_count": null,
      "outputs": [
        {
          "output_type": "stream",
          "name": "stdout",
          "text": [
            "     a   b   c     d\n",
            "0  1.0   4   7   NaN\n",
            "1  2.0   5   8   NaN\n",
            "2  3.0   6   9   NaN\n",
            "0  NaN  10  40  70.0\n",
            "1  NaN  20  50  80.0\n",
            "2  NaN  30  60  90.0\n",
            "   a  b  c   b   c   d\n",
            "0  1  4  7  10  40  70\n",
            "1  2  5  8  20  50  80\n",
            "2  3  6  9  30  60  90\n"
          ]
        }
      ]
    },
    {
      "cell_type": "code",
      "source": [
        "df1 = pd.DataFrame({'a':[1,2,3],'b':[4,5,6],'c':[7,8,1],'d':[10,11,12]})\n",
        "df2 = pd.DataFrame({'c':[1,3,4],'d':[10,50,60],'e':[4,4,90]})\n",
        "print(\"---0---\")\n",
        "print(df1)\n",
        "print(df2)\n",
        "print(\"---1---\")\n",
        "print(df1.set_index(\"a\"))\n",
        "print(df2.set_index(\"c\"))\n",
        "print(\"---2---\")\n",
        "print(df1.set_index(\"a\").join(df2.set_index(\"c\"), lsuffix='_caller', rsuffix='_other',how = 'left'))\n",
        "print(df1.set_index(\"a\").join(df2.set_index(\"c\"), lsuffix='_caller', rsuffix='_other',how = 'right'))\n",
        "print(\"---3---\")\n",
        "print(df1.set_index(\"a\").join(df2.set_index(\"c\"), lsuffix='_caller', rsuffix='_other',how = 'inner'))\n",
        "print(df1.set_index(\"a\").join(df2.set_index(\"c\"), lsuffix='_caller', rsuffix='_other',how = 'outer'))\n",
        "print(\"---4---\")\n",
        "df1 = pd.DataFrame({'a':[1,2,3],'b':[4,5,6],'c':[7,8,1],'d':[10,11,12]})\n",
        "df2 = pd.DataFrame({'c':[1,1,1],'d':[10,50,60],'e':[4,4,90]})\n",
        "print(pd.merge(df1,df2,on='c',how='inner'))\n",
        "df1 = pd.DataFrame({'a':[1,2,3],'b':[4,5,6],'c':[1,1,1],'d':[10,11,12]})\n",
        "df2 = pd.DataFrame({'c':[1,3,4],'d':[10,50,60],'e':[4,4,90]})\n",
        "print(pd.merge(df1,df2,on='c',how='inner'))\n",
        "df1 = pd.DataFrame({'a':[1,2,3],'b':[4,5,6],'c':[1,1,1],'d':[10,11,12]})\n",
        "df2 = pd.DataFrame({'c':[1,1,1],'d':[10,50,60],'e':[4,4,90]})\n",
        "print(pd.merge(df1,df2,on='c',how='inner'))\n",
        "#print(df1.set_index(\"a\").join(df2.set_index(\"a\"), lsuffix='_caller', rsuffix='_other', how = 'left'))\n"
      ],
      "metadata": {
        "colab": {
          "base_uri": "https://localhost:8080/"
        },
        "id": "apGw9CgIFAHc",
        "outputId": "333bea12-da08-471e-d2da-6010ba7cf6ce"
      },
      "execution_count": null,
      "outputs": [
        {
          "output_type": "stream",
          "name": "stdout",
          "text": [
            "---0---\n",
            "   a  b  c   d\n",
            "0  1  4  7  10\n",
            "1  2  5  8  11\n",
            "2  3  6  1  12\n",
            "   c   d   e\n",
            "0  1  10   4\n",
            "1  3  50   4\n",
            "2  4  60  90\n",
            "---1---\n",
            "   b  c   d\n",
            "a          \n",
            "1  4  7  10\n",
            "2  5  8  11\n",
            "3  6  1  12\n",
            "    d   e\n",
            "c        \n",
            "1  10   4\n",
            "3  50   4\n",
            "4  60  90\n",
            "---2---\n",
            "   b  c  d_caller  d_other    e\n",
            "a                              \n",
            "1  4  7        10     10.0  4.0\n",
            "2  5  8        11      NaN  NaN\n",
            "3  6  1        12     50.0  4.0\n",
            "     b    c  d_caller  d_other   e\n",
            "c                                 \n",
            "1  4.0  7.0      10.0       10   4\n",
            "3  6.0  1.0      12.0       50   4\n",
            "4  NaN  NaN       NaN       60  90\n",
            "---3---\n",
            "   b  c  d_caller  d_other  e\n",
            "1  4  7        10       10  4\n",
            "3  6  1        12       50  4\n",
            "     b    c  d_caller  d_other     e\n",
            "1  4.0  7.0      10.0     10.0   4.0\n",
            "2  5.0  8.0      11.0      NaN   NaN\n",
            "3  6.0  1.0      12.0     50.0   4.0\n",
            "4  NaN  NaN       NaN     60.0  90.0\n",
            "---4---\n",
            "   a  b  c  d_x  d_y   e\n",
            "0  3  6  1   12   10   4\n",
            "1  3  6  1   12   50   4\n",
            "2  3  6  1   12   60  90\n",
            "   a  b  c  d_x  d_y  e\n",
            "0  1  4  1   10   10  4\n",
            "1  2  5  1   11   10  4\n",
            "2  3  6  1   12   10  4\n",
            "   a  b  c  d_x  d_y   e\n",
            "0  1  4  1   10   10   4\n",
            "1  1  4  1   10   50   4\n",
            "2  1  4  1   10   60  90\n",
            "3  2  5  1   11   10   4\n",
            "4  2  5  1   11   50   4\n",
            "5  2  5  1   11   60  90\n",
            "6  3  6  1   12   10   4\n",
            "7  3  6  1   12   50   4\n",
            "8  3  6  1   12   60  90\n"
          ]
        }
      ]
    },
    {
      "cell_type": "markdown",
      "source": [
        "#Plot (Matplotlib & Seaborn)"
      ],
      "metadata": {
        "id": "q_V90rdQ18X0"
      }
    },
    {
      "cell_type": "markdown",
      "source": [
        "https://matplotlib.org/stable/api/index\n",
        "\n",
        "https://matplotlib.org/stable/api/_as_gen/matplotlib.pyplot.show.html\n",
        "\n",
        "https://seaborn.pydata.org/tutorial/introduction"
      ],
      "metadata": {
        "id": "gWIXCUvl2YVo"
      }
    },
    {
      "cell_type": "code",
      "source": [
        "plt.plot(3,3,'.')\n"
      ],
      "metadata": {
        "colab": {
          "base_uri": "https://localhost:8080/",
          "height": 283
        },
        "id": "HS8C_HwO2EN2",
        "outputId": "be4aa5d0-07a7-44d0-f47f-9c296b7fc159"
      },
      "execution_count": null,
      "outputs": [
        {
          "output_type": "execute_result",
          "data": {
            "text/plain": [
              "[<matplotlib.lines.Line2D at 0x7fd105771df0>]"
            ]
          },
          "metadata": {},
          "execution_count": 19
        },
        {
          "output_type": "display_data",
          "data": {
            "text/plain": [
              "<Figure size 432x288 with 1 Axes>"
            ],
            "image/png": "[encoded data removed]"
          },
          "metadata": {
            "needs_background": "light"
          }
        }
      ]
    },
    {
      "cell_type": "code",
      "source": [
        "x = np.array([2,4,6,8,10,12,14,16])\n",
        "y = x/2\n",
        "\n",
        "plt.figure(figsize=(7,5))\n",
        "plt.scatter(x, y, c='blue') "
      ],
      "metadata": {
        "id": "xy1ZOqoU2Ecv",
        "colab": {
          "base_uri": "https://localhost:8080/",
          "height": 338
        },
        "outputId": "e4fee84f-5c42-41c4-d6b0-f52a54b4ce0b"
      },
      "execution_count": null,
      "outputs": [
        {
          "output_type": "execute_result",
          "data": {
            "text/plain": [
              "<matplotlib.collections.PathCollection at 0x7fd1052c0760>"
            ]
          },
          "metadata": {},
          "execution_count": 20
        },
        {
          "output_type": "display_data",
          "data": {
            "text/plain": [
              "<Figure size 504x360 with 1 Axes>"
            ],
            "image/png": "[encoded data removed]"
          },
          "metadata": {
            "needs_background": "light"
          }
        }
      ]
    },
    {
      "cell_type": "code",
      "source": [
        "names = ['jhon', 'Sanjay', 'Ellen','Sandra','Nancy','Shubham','Philip']\n",
        "scores = [10,15,20,30,40,50,100]\n",
        "\n",
        "plt.figure(figsize=(15, 5))\n",
        "\n",
        "plt.subplot(231)        \n",
        "plt.bar(names, scores)\n",
        "\n",
        "plt.subplot(232)\n",
        "plt.scatter(names, scores)\n",
        "\n",
        "plt.subplot(233)\n",
        "plt.plot(names, scores)\n",
        "\n",
        "plt.subplot(234)\n",
        "plt.bar(names, scores)\n",
        "\n",
        "\n",
        "plt.suptitle('Categorical Plotting')       #you can give titles,xlabels and ylabels to each of the plots as well\n",
        "plt.show()"
      ],
      "metadata": {
        "id": "axF74Cb42Ei8",
        "colab": {
          "base_uri": "https://localhost:8080/",
          "height": 356
        },
        "outputId": "3162b96b-f10a-4840-bf9f-086b49c35f67"
      },
      "execution_count": null,
      "outputs": [
        {
          "output_type": "display_data",
          "data": {
            "text/plain": [
              "<Figure size 1080x360 with 4 Axes>"
            ],
            "image/png": "[encoded data removed]"
          },
          "metadata": {
            "needs_background": "light"
          }
        }
      ]
    },
    {
      "cell_type": "code",
      "source": [
        "import seaborn as sns\n",
        "plt.plot(3,3,'.')\n"
      ],
      "metadata": {
        "colab": {
          "base_uri": "https://localhost:8080/",
          "height": 283
        },
        "id": "59ydhpqQKTLs",
        "outputId": "c325cc6e-d5ec-4dcc-d600-17d015af8684"
      },
      "execution_count": null,
      "outputs": [
        {
          "output_type": "execute_result",
          "data": {
            "text/plain": [
              "[<matplotlib.lines.Line2D at 0x7fd10510b1f0>]"
            ]
          },
          "metadata": {},
          "execution_count": 22
        },
        {
          "output_type": "display_data",
          "data": {
            "text/plain": [
              "<Figure size 432x288 with 1 Axes>"
            ],
            "image/png": "[encoded data removed]"
          },
          "metadata": {
            "needs_background": "light"
          }
        }
      ]
    },
    {
      "cell_type": "code",
      "source": [
        "import seaborn as sns\n",
        "\n",
        "x = {'var1':[1,2,3,4,5],'var2':[10,20,30,40,50],}\n",
        "df = pd.DataFrame(x)\n",
        "sns.set_theme(style=\"whitegrid\")\n",
        "sns.lmplot('var1','var2',data=df)\n",
        "plt.show()\n",
        "\n"
      ],
      "metadata": {
        "id": "bjhyXpPTjOVE",
        "colab": {
          "base_uri": "https://localhost:8080/",
          "height": 422
        },
        "outputId": "bdb0e37e-4636-4904-b0dc-5dfdb4497eaf"
      },
      "execution_count": null,
      "outputs": [
        {
          "output_type": "stream",
          "name": "stderr",
          "text": [
            "/usr/local/lib/python3.8/dist-packages/seaborn/_decorators.py:36: FutureWarning: Pass the following variables as keyword args: x, y. From version 0.12, the only valid positional argument will be `data`, and passing other arguments without an explicit keyword will result in an error or misinterpretation.\n",
            "  warnings.warn(\n"
          ]
        },
        {
          "output_type": "display_data",
          "data": {
            "text/plain": [
              "<Figure size 360x360 with 1 Axes>"
            ],
            "image/png": "[encoded data removed]"
          },
          "metadata": {}
        }
      ]
    },
    {
      "cell_type": "code",
      "source": [
        "xx=np.random.randint(0,10,100)\n",
        "yy=np.random.randint(0,10,100)\n",
        "#zz = pd.DataFrame(x,index=y)\n",
        "print(xx)\n",
        "#sns.set_theme(style=\"dark\")\n",
        "#sns.distplot(x, kde = False)\n",
        "#sns.distplot.hist()\n",
        "#sns.displot(x)"
      ],
      "metadata": {
        "id": "3so8naYn1288",
        "colab": {
          "base_uri": "https://localhost:8080/"
        },
        "outputId": "50f08d82-c439-4f15-b665-bb1c6722fbd0"
      },
      "execution_count": null,
      "outputs": [
        {
          "output_type": "stream",
          "name": "stdout",
          "text": [
            "[6 4 4 8 9 5 6 3 1 8 1 6 1 9 7 2 4 6 0 9 4 9 3 0 7 7 0 8 2 6 6 0 5 4 1 2 1\n",
            " 8 3 5 7 9 0 2 8 6 0 0 6 5 9 7 1 7 4 2 6 3 6 9 3 0 6 2 5 0 9 1 9 2 5 7 0 5\n",
            " 0 8 0 8 0 9 6 8 0 5 3 6 1 3 4 5 6 2 4 9 1 9 1 1 6 6]\n"
          ]
        }
      ]
    },
    {
      "cell_type": "code",
      "source": [
        "fig = plt.figure()\n",
        "a1 = fig.add_axes([0,0,1,1]) #The calling signature of add_axes is add_axes(rect), where rect is a list [x0, y0, width, height] denoting the lower left point of the new axes in figure coodinates (x0,y0) and its width and height. So the axes is positionned in absolute coordinates on the canvas\n",
        "\n",
        "x = np.arange(1,10)\n",
        "a1.plot(x, np.exp(x),'b')\n",
        "\n",
        "a1.set_title('range of numbers')\n",
        "\n",
        "#explicitly set x and y limits\n",
        "plt.ylim(0,10000)\n",
        "plt.xlim(0,15)\n",
        "\n",
        "#explicitly set x and y labels\n",
        "plt.xlabel(\"x-axis\") \n",
        "plt.ylabel('y-axis')\n",
        "plt.show()"
      ],
      "metadata": {
        "id": "_kb3PG0bIgwx",
        "colab": {
          "base_uri": "https://localhost:8080/",
          "height": 371
        },
        "outputId": "492da1cc-aa5a-4a13-9baf-74d4209dd78a"
      },
      "execution_count": null,
      "outputs": [
        {
          "output_type": "display_data",
          "data": {
            "text/plain": [
              "<Figure size 432x288 with 1 Axes>"
            ],
            "image/png": "[encoded data removed]"
          },
          "metadata": {}
        }
      ]
    },
    {
      "cell_type": "markdown",
      "source": [
        "#Statistics"
      ],
      "metadata": {
        "id": "ONe89xC8ECKP"
      }
    },
    {
      "cell_type": "code",
      "source": [
        "import statistics\n",
        "data = [25,25,27,27,30]\n",
        "print(np.mean(data)) #média\n",
        "print(np.median(data)) # mediana\n",
        "print(statistics.mode(data)) #mode\n",
        "#variation, variância\n",
        "print(np.std(data)) #standart deviation , desvio padrão\n",
        "#desvio padrão de distribuição de frequencia\n",
        "# coefficient of variation, CV = std/mean"
      ],
      "metadata": {
        "colab": {
          "base_uri": "https://localhost:8080/"
        },
        "id": "kx-C4-JOEJ0i",
        "outputId": "c1f4c1d2-9d70-431f-9f37-753e99e10d57"
      },
      "execution_count": null,
      "outputs": [
        {
          "output_type": "stream",
          "name": "stdout",
          "text": [
            "26.8\n",
            "27.0\n",
            "25\n",
            "1.8330302779823362\n"
          ]
        }
      ]
    },
    {
      "cell_type": "markdown",
      "source": [
        "![111.PNG](data:image/png;base64,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) #desvio padrão de distribuição de frequencia"
      ],
      "metadata": {
        "id": "ZOBHg2esQ17B"
      }
    },
    {
      "cell_type": "code",
      "source": [
        "import seaborn as sns\n",
        "import numpy as np\n",
        "sns.boxplot(x= np.random.randint(0,1000,1000))"
      ],
      "metadata": {
        "id": "mqlZRTtyEW9L",
        "colab": {
          "base_uri": "https://localhost:8080/",
          "height": 286
        },
        "outputId": "0382d1cd-d4d5-448b-ed90-e39a235cc71b"
      },
      "execution_count": null,
      "outputs": [
        {
          "output_type": "execute_result",
          "data": {
            "text/plain": [
              "<matplotlib.axes._subplots.AxesSubplot at 0x7fd10515a190>"
            ]
          },
          "metadata": {},
          "execution_count": 27
        },
        {
          "output_type": "display_data",
          "data": {
            "text/plain": [
              "<Figure size 432x288 with 1 Axes>"
            ],
            "image/png": "[encoded data removed]"
          },
          "metadata": {}
        }
      ]
    },
    {
      "cell_type": "code",
      "source": [
        "#normal distribution = gauss\n",
        "x = {'var1':[1,2,3,4,5],'var2':[-15,-20,-30,-40,-500]}\n",
        "df = pd.DataFrame(x)\n",
        "print(df.corr())\n"
      ],
      "metadata": {
        "id": "h3xh4vehCsDP",
        "colab": {
          "base_uri": "https://localhost:8080/"
        },
        "outputId": "ec5bd42c-aae8-46ca-9064-33e6c6b68187"
      },
      "execution_count": null,
      "outputs": [
        {
          "output_type": "stream",
          "name": "stdout",
          "text": [
            "          var1      var2\n",
            "var1  1.000000 -0.738066\n",
            "var2 -0.738066  1.000000\n"
          ]
        }
      ]
    }
  ]
}