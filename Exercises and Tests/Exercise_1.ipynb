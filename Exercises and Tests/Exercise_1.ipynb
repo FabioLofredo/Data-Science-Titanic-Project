{
  "nbformat": 4,
  "nbformat_minor": 0,
  "metadata": {
    "colab": {
      "provenance": [],
      "authorship_tag": "ABX9TyOF289y9ayst3DVvk04XGBf",
      "include_colab_link": true
    },
    "kernelspec": {
      "name": "python3",
      "display_name": "Python 3"
    },
    "language_info": {
      "name": "python"
    }
  },
  "cells": [
    {
      "cell_type": "markdown",
      "metadata": {
        "id": "view-in-github",
        "colab_type": "text"
      },
      "source": [
        "<a href=\"https://colab.research.google.com/github/FabioLofredo/Exercises-for-Data-Science/blob/main/Exercise_1.ipynb\" target=\"_parent\"><img src=\"https://colab.research.google.com/assets/colab-badge.svg\" alt=\"Open In Colab\"/></a>"
      ]
    },
    {
      "cell_type": "markdown",
      "source": [
        "#Exercise"
      ],
      "metadata": {
        "id": "rKDCSTtlHjMT"
      }
    },
    {
      "cell_type": "markdown",
      "source": [
        "##1\n",
        "You will need to import 3 files from the folder as data frames into your Jupyter\n",
        "notebook\n",
        "\n",
        "o u.data\n",
        "\n",
        "o u.item\n",
        "\n",
        "o u.user\n",
        "\n",
        "(You might encounter some trouble importing the data, you are expected to\n",
        "figure out on your own)"
      ],
      "metadata": {
        "id": "jtcoZ_bR-yRW"
      }
    },
    {
      "cell_type": "code",
      "source": [
        "pip install chardet"
      ],
      "metadata": {
        "colab": {
          "base_uri": "https://localhost:8080/"
        },
        "id": "9DHY0pQnMi6j",
        "outputId": "c2cb2894-92d3-4930-a9ac-dde1ba65f6a4"
      },
      "execution_count": null,
      "outputs": [
        {
          "output_type": "stream",
          "name": "stdout",
          "text": [
            "Looking in indexes: https://pypi.org/simple, https://us-python.pkg.dev/colab-wheels/public/simple/\n",
            "Requirement already satisfied: chardet in /usr/local/lib/python3.8/dist-packages (3.0.4)\n"
          ]
        }
      ]
    },
    {
      "cell_type": "code",
      "source": [
        "# look at the first ten thousand bytes to guess the character encoding\n",
        "import chardet\n",
        "with open(\"/content/u.item\", 'rb') as rawdata:\n",
        "    result = chardet.detect(rawdata.read(100000))\n",
        "\n",
        "# check what the character encoding might be\n",
        "print(result[\"encoding\"])\n",
        "\n"
      ],
      "metadata": {
        "colab": {
          "base_uri": "https://localhost:8080/"
        },
        "id": "3UJJCa_9IWAw",
        "outputId": "a2cb8cd3-b9b7-46ff-8f96-f29f7508250d"
      },
      "execution_count": null,
      "outputs": [
        {
          "output_type": "stream",
          "name": "stdout",
          "text": [
            "ISO-8859-1\n"
          ]
        }
      ]
    },
    {
      "cell_type": "code",
      "source": [
        "import pandas as pd\n",
        "import numpy as np\n",
        "from matplotlib import pyplot as plt\n",
        "import seaborn as sns\n",
        "\n",
        "\n",
        "\n",
        "data = pd.read_csv('/content/u.data',sep = '\\t',names=\"user id | item id | rating | timestamp\".split(' | '))\n",
        "item = pd.read_csv('/content/u.item',sep = '|',encoding = result[\"encoding\"],names=\"movie id | movie title | release date | video release date | IMDb URL | unknown | Action | Adventure | Animation | Children's | Comedy | Crime | Documentary | Drama | Fantasy | Film-Noir | Horror | Musical | Mystery | Romance | Sci-Fi | Thriller | War | Western\".split(\" | \"))  \n",
        "user = pd.read_csv('/content/u.user',sep = '|',names=\"user id | age | gender | occupation | zip code\".split(' | ') )  \n",
        "\n",
        "print(data)"
      ],
      "metadata": {
        "colab": {
          "base_uri": "https://localhost:8080/"
        },
        "id": "_j_hKH0RHpkI",
        "outputId": "5616c46d-5549-4675-8b46-e7792c2051ac"
      },
      "execution_count": null,
      "outputs": [
        {
          "output_type": "stream",
          "name": "stdout",
          "text": [
            "       user id  item id  rating  timestamp\n",
            "0          196      242       3  881250949\n",
            "1          186      302       3  891717742\n",
            "2           22      377       1  878887116\n",
            "3          244       51       2  880606923\n",
            "4          166      346       1  886397596\n",
            "...        ...      ...     ...        ...\n",
            "99995      880      476       3  880175444\n",
            "99996      716      204       5  879795543\n",
            "99997      276     1090       1  874795795\n",
            "99998       13      225       2  882399156\n",
            "99999       12      203       3  879959583\n",
            "\n",
            "[100000 rows x 4 columns]\n"
          ]
        }
      ]
    },
    {
      "cell_type": "markdown",
      "source": [
        "##2\n",
        "Display univariate plots of the attributes: 'rating', 'age', 'release date', 'gender' and\n",
        "'occupation', from their respective data frames"
      ],
      "metadata": {
        "id": "031gmnb-_Acc"
      }
    },
    {
      "cell_type": "code",
      "source": [
        "data.isna().sum()"
      ],
      "metadata": {
        "colab": {
          "base_uri": "https://localhost:8080/"
        },
        "id": "rnyF4AoHRXo4",
        "outputId": "ade981c6-a1b4-46ca-d022-83d821bf06e5"
      },
      "execution_count": null,
      "outputs": [
        {
          "output_type": "execute_result",
          "data": {
            "text/plain": [
              "user id      0\n",
              "item id      0\n",
              "rating       0\n",
              "timestamp    0\n",
              "dtype: int64"
            ]
          },
          "metadata": {},
          "execution_count": 58
        }
      ]
    },
    {
      "cell_type": "code",
      "source": [
        "item.isna().sum()"
      ],
      "metadata": {
        "colab": {
          "base_uri": "https://localhost:8080/"
        },
        "id": "UV00-TaHTGX2",
        "outputId": "f0f2f8ca-0958-47bb-d857-cecde5e97aba"
      },
      "execution_count": null,
      "outputs": [
        {
          "output_type": "execute_result",
          "data": {
            "text/plain": [
              "movie id                 0\n",
              "movie title              0\n",
              "release date             1\n",
              "video release date    1682\n",
              "IMDb URL                 3\n",
              "unknown                  0\n",
              "Action                   0\n",
              "Adventure                0\n",
              "Animation                0\n",
              "Children's               0\n",
              "Comedy                   0\n",
              "Crime                    0\n",
              "Documentary              0\n",
              "Drama                    0\n",
              "Fantasy                  0\n",
              "Film-Noir                0\n",
              "Horror                   0\n",
              "Musical                  0\n",
              "Mystery                  0\n",
              "Romance                  0\n",
              "Sci-Fi                   0\n",
              "Thriller                 0\n",
              "War                      0\n",
              "Western                  0\n",
              "dtype: int64"
            ]
          },
          "metadata": {},
          "execution_count": 59
        }
      ]
    },
    {
      "cell_type": "code",
      "source": [
        "user.isna().sum()"
      ],
      "metadata": {
        "colab": {
          "base_uri": "https://localhost:8080/"
        },
        "id": "Z8esGzMqUcdM",
        "outputId": "77d798ce-87c7-436e-bbd4-9874a228ccad"
      },
      "execution_count": null,
      "outputs": [
        {
          "output_type": "execute_result",
          "data": {
            "text/plain": [
              "user id       0\n",
              "age           0\n",
              "gender        0\n",
              "occupation    0\n",
              "zip code      0\n",
              "dtype: int64"
            ]
          },
          "metadata": {},
          "execution_count": 60
        }
      ]
    },
    {
      "cell_type": "code",
      "source": [
        "item[\"release date\"].isnull().sum()"
      ],
      "metadata": {
        "colab": {
          "base_uri": "https://localhost:8080/"
        },
        "id": "B3cY-Dg0siIy",
        "outputId": "5bddf54c-bad6-40e1-d031-bd75c49c8654"
      },
      "execution_count": null,
      "outputs": [
        {
          "output_type": "execute_result",
          "data": {
            "text/plain": [
              "1"
            ]
          },
          "metadata": {},
          "execution_count": 61
        }
      ]
    },
    {
      "cell_type": "code",
      "source": [
        "import datetime as dt\n",
        "import numpy as np\n",
        "a=[]\n",
        "i=0\n",
        "item['year']=item[\"movie id\"]\n",
        "for x in pd.to_datetime(item[\"release date\"]):\n",
        "  if x != None:\n",
        "    item['year'][i] = x.year\n",
        "  else:\n",
        "    item['year'][i] = None\n",
        "  i+=1\n",
        "z = pd.Series(item[\"year\"],dtype=\"int\",name= \"teste\") \n",
        "#z.value_counts().plot(kind = \"bar\", figsize=(50,10))\n",
        "#z.teste = z.teste.astype(int)\n",
        "#z['teste'] = z['teste'].astype(np.int64)\n",
        "#z[\"teste\"] = z[\"teste\"].apply(np.int64)\n",
        "\n",
        "z.value_counts().sort_index(ascending=False).plot(kind = \"bar\", figsize=(50,10))\n",
        "#print(type(item['release year'][1]))\n",
        "#item['release year']= item['release year'].astype(\"int\")\n",
        "#print(z.value_counts())\n",
        "#print(z.value_counts().sort_index(ascending=False))\n",
        "#print(z.head(25))"
      ],
      "metadata": {
        "colab": {
          "base_uri": "https://localhost:8080/",
          "height": 498
        },
        "id": "5IJ4z7GghXAu",
        "outputId": "974ab12d-54d6-4728-fc5c-013528e002fb"
      },
      "execution_count": null,
      "outputs": [
        {
          "output_type": "stream",
          "name": "stderr",
          "text": [
            "<ipython-input-62-7555976aefba>:8: SettingWithCopyWarning: \n",
            "A value is trying to be set on a copy of a slice from a DataFrame\n",
            "\n",
            "See the caveats in the documentation: https://pandas.pydata.org/pandas-docs/stable/user_guide/indexing.html#returning-a-view-versus-a-copy\n",
            "  item['year'][i] = x.year\n",
            "/usr/local/lib/python3.8/dist-packages/pandas/core/indexing.py:1732: SettingWithCopyWarning: \n",
            "A value is trying to be set on a copy of a slice from a DataFrame\n",
            "\n",
            "See the caveats in the documentation: https://pandas.pydata.org/pandas-docs/stable/user_guide/indexing.html#returning-a-view-versus-a-copy\n",
            "  self._setitem_single_block(indexer, value, name)\n"
          ]
        },
        {
          "output_type": "execute_result",
          "data": {
            "text/plain": [
              "<matplotlib.axes._subplots.AxesSubplot at 0x7f917b509250>"
            ]
          },
          "metadata": {},
          "execution_count": 62
        },
        {
          "output_type": "display_data",
          "data": {
            "text/plain": [
              "<Figure size 3600x720 with 1 Axes>"
            ],
            "image/png": "[encoded data removed]"
          },
          "metadata": {
            "needs_background": "light"
          }
        }
      ]
    },
    {
      "cell_type": "code",
      "source": [
        "sns.displot(data[\"rating\"])\n",
        "#plt.hist(data[\"rating\"], bins=8)\n",
        "#plt.xticks([1,2,3,4,5],[\"1\"])\n",
        "\n",
        "#ax.set_xticklabels(x[::2], rotation=45)\n",
        "#plt.show()\n",
        "sns.displot(user[\"age\"])\n",
        "#sns.displot(item[\"release date\"])\n",
        "sns.displot(user[\"gender\"])\n",
        "plt.show()\n",
        "#sns.displot(user[\"occupation\"])\n",
        "user[\"occupation\"].value_counts().plot(kind = \"bar\", figsize=(50,10))\n",
        "\n"
      ],
      "metadata": {
        "colab": {
          "base_uri": "https://localhost:8080/",
          "height": 1000
        },
        "id": "damJ8R9nUMRF",
        "outputId": "1a7e123b-4bae-4b2e-a451-d5704f7d2c92"
      },
      "execution_count": null,
      "outputs": [
        {
          "output_type": "display_data",
          "data": {
            "text/plain": [
              "<Figure size 360x360 with 1 Axes>"
            ],
            "image/png": "[encoded data removed]"
          },
          "metadata": {
            "needs_background": "light"
          }
        },
        {
          "output_type": "display_data",
          "data": {
            "text/plain": [
              "<Figure size 360x360 with 1 Axes>"
            ],
            "image/png": "[encoded data removed]"
          },
          "metadata": {
            "needs_background": "light"
          }
        },
        {
          "output_type": "display_data",
          "data": {
            "text/plain": [
              "<Figure size 360x360 with 1 Axes>"
            ],
            "image/png": "[encoded data removed]"
          },
          "metadata": {
            "needs_background": "light"
          }
        },
        {
          "output_type": "execute_result",
          "data": {
            "text/plain": [
              "<matplotlib.axes._subplots.AxesSubplot at 0x7f91788fe0d0>"
            ]
          },
          "metadata": {},
          "execution_count": 63
        },
        {
          "output_type": "display_data",
          "data": {
            "text/plain": [
              "<Figure size 3600x720 with 1 Axes>"
            ],
            "image/png": "[encoded data removed]"
          },
          "metadata": {
            "needs_background": "light"
          }
        }
      ]
    },
    {
      "cell_type": "markdown",
      "source": [
        "##3\n",
        "Visualize how popularity of Genres has changed over the years. From the graph\n",
        "one should be able to see for any given year, movies of which genre got released\n",
        "the most."
      ],
      "metadata": {
        "id": "_94QQXKb-7Wg"
      }
    },
    {
      "cell_type": "code",
      "source": [
        "\n",
        "\n",
        "set_dates = set(item['year'])\n",
        "list_dates = list(set_dates)\n",
        "serie_year = pd.Series(list_dates).sort_index(ascending=False) \n",
        "#print(serie_year)\n",
        "df = pd.DataFrame(item[\"year | unknown | Action | Adventure | Animation | Children's | Comedy | Crime | Documentary | Drama | Fantasy | Film-Noir | Horror | Musical | Mystery | Romance | Sci-Fi | Thriller | War | Western\".split(\" | \")])\n",
        "df.set_index(\"year\",inplace=True) \n",
        "df_end = pd.DataFrame(item[\"unknown | Action | Adventure | Animation | Children's | Comedy | Crime | Documentary | Drama | Fantasy | Film-Noir | Horror | Musical | Mystery | Romance | Sci-Fi | Thriller | War | Western\".split(\" | \")],index =serie_year )\n",
        "#print(df)\n",
        "#print(df_end)\n",
        "\n",
        "#changing NaN to 0 in df_end\n",
        "for index_end,values_end in df_end.iterrows():\n",
        "  for x in df_end.loc[index_end].keys():\n",
        "    df_end.loc[index_end][x] = 0\n",
        "\n",
        "#Summing df in df_end\n",
        "for index_df, values_df in df.iterrows():\n",
        "  for x in df_end.loc[index_df].keys():\n",
        "    df_end.loc[index_df][x] += values_df[x]\n",
        "print(df_end)\n",
        "\n",
        "width = 0.9      # the width of the bars: can also be len(x) sequence\n",
        "\n",
        "fig, ax = plt.subplots(figsize=(100,10))\n",
        "print(type(df_end.index))\n",
        "print(df_end[\"Western\"].values.astype(int))\n",
        "for x in df_end.columns:\n",
        "  if x != None:\n",
        "    ax.bar(df_end.index, df_end[x].values.astype(int), width, label=x)\n",
        "\n",
        "\n",
        "#aaa = np.add(women_means,men_means)\n",
        "#ax.bar(labels, men_means, width, label='Men')\n",
        "#ax.bar(labels, women_means, width, label='Women',bottom=men_means)\n",
        "#ax.bar(labels, men_means, width, label='3',bottom=aaa)\n",
        "ax.set_yscale('log')\n",
        "ax.set_ylabel('Count')\n",
        "ax.set_title('Favorite gender by year')\n",
        "ax.legend()\n",
        "df_end.dropna()\n",
        "\n",
        "lst_anos = df_end.sort_index().index\n",
        "plt.xticks(lst_anos,(lst_anos).dropna().astype(int))\n",
        "#df_end.index_sort_values\n",
        "\n",
        "#print(df.isnull())\n",
        "#plt.xticks(df_end.index)\n",
        "#ax.set_xticklabels(x[::2], rotation=45)\n",
        "#plt.xticks(df_end.index, rotation='vertical')\n",
        "#plt.xticks?#(x, df_end.index, rotation='vertical')\n",
        "#ax.set_xticklabels(df_end.index.astype(str))\n",
        "plt.show()\n",
        "#print(type(df_end.index)\n"
      ],
      "metadata": {
        "colab": {
          "base_uri": "https://localhost:8080/",
          "height": 1000
        },
        "id": "GiYX1QbB8gJ7",
        "outputId": "880e53de-54a0-4ac4-c83a-bee9b713267f"
      },
      "execution_count": null,
      "outputs": [
        {
          "output_type": "stream",
          "name": "stdout",
          "text": [
            "        unknown  Action  Adventure  Animation  Children's  Comedy  Crime  \\\n",
            "1998.0      0.0    12.0        3.0        0.0         1.0    13.0    7.0   \n",
            "1997.0      0.0    46.0       20.0        3.0        22.0    87.0   30.0   \n",
            "1996.0      0.0    44.0       24.0        9.0        21.0   108.0   21.0   \n",
            "1995.0      0.0    40.0       22.0        6.0        21.0    63.0   11.0   \n",
            "1994.0      0.0    30.0       13.0        4.0        15.0    82.0    8.0   \n",
            "...         ...     ...        ...        ...         ...     ...    ...   \n",
            "1931.0      0.0     0.0        0.0        0.0         0.0     0.0    1.0   \n",
            "1930.0      0.0     0.0        0.0        0.0         0.0     0.0    0.0   \n",
            "1926.0      0.0     0.0        0.0        0.0         0.0     0.0    0.0   \n",
            "1922.0      0.0     0.0        0.0        0.0         0.0     0.0    0.0   \n",
            "NaN         1.0     0.0        0.0        0.0         0.0     0.0    0.0   \n",
            "\n",
            "        Documentary  Drama  Fantasy  Film-Noir  Horror  Musical  Mystery  \\\n",
            "1998.0          3.0   33.0      1.0        2.0     4.0      1.0      3.0   \n",
            "1997.0          6.0  113.0      4.0        2.0     8.0      5.0     18.0   \n",
            "1996.0         18.0  170.0      6.0        1.0    11.0      9.0      6.0   \n",
            "1995.0          5.0   89.0      3.0        1.0    14.0      3.0      5.0   \n",
            "1994.0          9.0   97.0      3.0        0.0     8.0      2.0      2.0   \n",
            "...             ...    ...      ...        ...     ...      ...      ...   \n",
            "1931.0          0.0    0.0      0.0        1.0     0.0      0.0      0.0   \n",
            "1930.0          0.0    1.0      0.0        0.0     0.0      0.0      0.0   \n",
            "1926.0          0.0    1.0      0.0        0.0     0.0      0.0      0.0   \n",
            "1922.0          0.0    0.0      0.0        0.0     1.0      0.0      0.0   \n",
            "NaN             0.0    0.0      0.0        0.0     0.0      0.0      0.0   \n",
            "\n",
            "        Romance  Sci-Fi  Thriller   War  Western  \n",
            "1998.0     11.0     5.0      18.0   0.0      0.0  \n",
            "1997.0     51.0    13.0      54.0  14.0      0.0  \n",
            "1996.0     38.0    15.0      47.0   9.0      2.0  \n",
            "1995.0     37.0    15.0      39.0   5.0      2.0  \n",
            "1994.0     35.0     7.0      25.0   7.0      6.0  \n",
            "...         ...     ...       ...   ...      ...  \n",
            "1931.0      0.0     0.0       1.0   0.0      0.0  \n",
            "1930.0      0.0     0.0       0.0   0.0      0.0  \n",
            "1926.0      0.0     0.0       0.0   0.0      0.0  \n",
            "1922.0      0.0     0.0       0.0   0.0      0.0  \n",
            "NaN         0.0     0.0       0.0   0.0      0.0  \n",
            "\n",
            "[72 rows x 19 columns]\n",
            "<class 'pandas.core.indexes.numeric.Float64Index'>\n",
            "[0 0 2 2 6 2 1 0 2 0 1 0 0 0 0 0 0 0 0 0 0 0 0 1 0 0 0 0 0 3 0 0 1 0 0 0 0\n",
            " 0 0 0 1 0 0 1 1 0 1 0 0 0 0 1 0 0 0 1 0 0 0 0 0 0 0 0 0 0 0 0 0 0 0 0]\n"
          ]
        },
        {
          "output_type": "display_data",
          "data": {
            "text/plain": [
              "<Figure size 7200x720 with 1 Axes>"
            ],
            "image/png": "[encoded data removed]"
          },
          "metadata": {
            "needs_background": "light"
          }
        }
      ]
    },
    {
      "cell_type": "markdown",
      "source": [
        "##4\n",
        "Display the top 25 movies by average rating, as a list/series/dataframe.\n",
        "Note:- Consider only the movies which received atleast a 100 ratings"
      ],
      "metadata": {
        "id": "i6CzGLQA_QeE"
      }
    },
    {
      "cell_type": "code",
      "source": [
        "print(data)"
      ],
      "metadata": {
        "colab": {
          "base_uri": "https://localhost:8080/"
        },
        "id": "VP1rdc6fBO5i",
        "outputId": "e86fcbb8-86df-47cb-8b41-748025d4ebc4"
      },
      "execution_count": null,
      "outputs": [
        {
          "output_type": "stream",
          "name": "stdout",
          "text": [
            "       user id  item id  rating  timestamp\n",
            "0          196      242       3  881250949\n",
            "1          186      302       3  891717742\n",
            "2           22      377       1  878887116\n",
            "3          244       51       2  880606923\n",
            "4          166      346       1  886397596\n",
            "...        ...      ...     ...        ...\n",
            "99995      880      476       3  880175444\n",
            "99996      716      204       5  879795543\n",
            "99997      276     1090       1  874795795\n",
            "99998       13      225       2  882399156\n",
            "99999       12      203       3  879959583\n",
            "\n",
            "[100000 rows x 4 columns]\n"
          ]
        }
      ]
    },
    {
      "cell_type": "code",
      "source": [
        "#print(data[\"rating\"])\n",
        "#data[\"item id\"]\n",
        "#print(data.isna().sum())\n",
        "\n",
        "set_id = set(data['item id'])\n",
        "list_id = list(set_id)\n",
        "serie_id = pd.Series(list_id).sort_index(ascending=False) \n",
        "#print(serie_id)\n",
        "df_end = pd.DataFrame(columns =[\"quantity\",\"rating sum\",\"rating avg\"],index = serie_id)\n",
        "df_end.fillna(0, inplace = True)\n",
        "print(df_end)\n",
        "#print(data.index())\n",
        "for index_data,values_data in data.iterrows():\n",
        "  #print(values_data[\"item id\"])\n",
        "  df_end[\"quantity\"][values_data[\"item id\"]] +=1\n",
        "  df_end[\"rating sum\"][values_data[\"item id\"]] += values_data[\"rating\"]\n",
        "  #print(df_end[\"quantity\"][4])\n",
        "  #print(df_end[\"rating sum\"][4])\n",
        "df_end[\"rating avg\"]= df_end[\"rating avg\"].astype(float)\n",
        "for index_data,values_data in df_end.iterrows():\n",
        "  df_end[\"rating avg\"][index_data] = (df_end[\"rating sum\"][index_data]).astype(float)/(df_end[\"quantity\"][index_data]).astype(float)\n",
        "print(df_end)\n",
        "\n"
      ],
      "metadata": {
        "colab": {
          "base_uri": "https://localhost:8080/"
        },
        "id": "I6fv36u6zPlW",
        "outputId": "b0d734e6-0ae9-4949-b0e4-b47784d7f45e"
      },
      "execution_count": null,
      "outputs": [
        {
          "output_type": "stream",
          "name": "stdout",
          "text": [
            "      quantity  rating sum  rating avg\n",
            "1682         0           0           0\n",
            "1681         0           0           0\n",
            "1680         0           0           0\n",
            "1679         0           0           0\n",
            "1678         0           0           0\n",
            "...        ...         ...         ...\n",
            "5            0           0           0\n",
            "4            0           0           0\n",
            "3            0           0           0\n",
            "2            0           0           0\n",
            "1            0           0           0\n",
            "\n",
            "[1682 rows x 3 columns]\n"
          ]
        },
        {
          "output_type": "stream",
          "name": "stderr",
          "text": [
            "<ipython-input-66-aa6d88d29671>:21: SettingWithCopyWarning: \n",
            "A value is trying to be set on a copy of a slice from a DataFrame\n",
            "\n",
            "See the caveats in the documentation: https://pandas.pydata.org/pandas-docs/stable/user_guide/indexing.html#returning-a-view-versus-a-copy\n",
            "  df_end[\"rating avg\"][index_data] = (df_end[\"rating sum\"][index_data]).astype(float)/(df_end[\"quantity\"][index_data]).astype(float)\n"
          ]
        },
        {
          "output_type": "stream",
          "name": "stdout",
          "text": [
            "      quantity  rating sum  rating avg\n",
            "1682         1           3    3.000000\n",
            "1681         1           3    3.000000\n",
            "1680         1           2    2.000000\n",
            "1679         1           3    3.000000\n",
            "1678         1           1    1.000000\n",
            "...        ...         ...         ...\n",
            "5           86         284    3.302326\n",
            "4          209         742    3.550239\n",
            "3           90         273    3.033333\n",
            "2          131         420    3.206107\n",
            "1          452        1753    3.878319\n",
            "\n",
            "[1682 rows x 3 columns]\n"
          ]
        }
      ]
    },
    {
      "cell_type": "code",
      "source": [
        "\n",
        "print(df_end[df_end[\"quantity\"]>99].sort_values(by=\"rating avg\",ascending=False).head(25))\n"
      ],
      "metadata": {
        "colab": {
          "base_uri": "https://localhost:8080/"
        },
        "id": "hsGgyqOzCjbP",
        "outputId": "fa7e9a2b-3d5b-466a-e3d2-fbfa211a181f"
      },
      "execution_count": null,
      "outputs": [
        {
          "output_type": "stream",
          "name": "stdout",
          "text": [
            "     quantity  rating sum  rating avg\n",
            "408       112         503    4.491071\n",
            "318       298        1331    4.466443\n",
            "169       118         527    4.466102\n",
            "483       243        1083    4.456790\n",
            "64        283        1258    4.445230\n",
            "603       209         917    4.387560\n",
            "12        267        1171    4.385768\n",
            "50        583        2541    4.358491\n",
            "178       125         543    4.344000\n",
            "134       198         850    4.292929\n",
            "427       219         940    4.292237\n",
            "357       264        1133    4.291667\n",
            "98        390        1673    4.289744\n",
            "480       179         767    4.284916\n",
            "127       413        1769    4.283293\n",
            "285       162         691    4.265432\n",
            "272       198         844    4.262626\n",
            "657       131         558    4.259542\n",
            "474       194         825    4.252577\n",
            "174       420        1786    4.252381\n",
            "479       179         761    4.251397\n",
            "313       350        1486    4.245714\n",
            "511       173         732    4.231214\n",
            "484       138         581    4.210145\n",
            "172       367        1543    4.204360\n"
          ]
        }
      ]
    },
    {
      "cell_type": "markdown",
      "source": [
        "##5\n",
        "Verify the following statements (no need of doing a statistical test. Compare\n",
        "absolute numbers):\n",
        "\n",
        "o Men watch more drama than women\n",
        "\n",
        "o Men watch more Romance than women\n",
        "\n",
        "o Women watch more Sci-Fi than men"
      ],
      "metadata": {
        "id": "rKWf5cqe_UmG"
      }
    },
    {
      "cell_type": "code",
      "source": [
        "#data = pd.read_csv('/content/u.data',sep = '\\t',names=\"user id | item id | rating | timestamp\".split(' | '))\n",
        "#item = pd.read_csv('/content/u.item',sep = '|',encoding = result[\"encoding\"],names=\"movie id | movie title | release date | video release date | IMDb URL | unknown | Action | Adventure | Animation | Children's | Comedy | Crime | Documentary | Drama | Fantasy | Film-Noir | Horror | Musical | Mystery | Romance | Sci-Fi | Thriller | War | Western\".split(\" | \"))  \n",
        "#user = pd.read_csv('/content/u.user',sep = '|',names=\"user id | age | gender | occupation | zip code\".split(' | ') )  \n",
        "df_temp = item.copy()\n",
        "for x in \"release date | video release date | IMDb URL | unknown | Action | Adventure | Animation | Children's | Comedy | Crime | Documentary | Drama | Fantasy | Film-Noir | Horror | Musical | Mystery | Romance | Sci-Fi | Thriller | War | Western\".split(\" | \"):\n",
        "  if (x == \"Drama\") or (x ==  \"Romance\") or (x == \"Sci-Fi\"):\n",
        "    a=0\n",
        "  else:\n",
        "    df_temp.drop(x,axis=1,inplace=True)\n",
        "\n",
        "df1 = user.set_index(\"user id\").join(data.set_index(\"user id\"), lsuffix='_caller', rsuffix='_other',how = \"inner\")\n",
        "df2 = df1.set_index(\"item id\").join(df_temp.set_index(\"movie id\"), lsuffix='_caller', rsuffix='_other',how = \"inner\")\n",
        "print (df2.head(50))\n"
      ],
      "metadata": {
        "id": "mQOLg5_QFXXK",
        "colab": {
          "base_uri": "https://localhost:8080/"
        },
        "outputId": "e35fa66c-d0b5-42d4-ef26-9c8f2faa81c3"
      },
      "execution_count": null,
      "outputs": [
        {
          "output_type": "stream",
          "name": "stdout",
          "text": [
            "   age gender     occupation zip code  rating  timestamp       movie title  \\\n",
            "1   24      M     technician    85711       5  874965758  Toy Story (1995)   \n",
            "1   53      F          other    94043       4  888550871  Toy Story (1995)   \n",
            "1   33      F          other    15213       4  875635748  Toy Story (1995)   \n",
            "1   42      M      executive    98101       4  883599478  Toy Story (1995)   \n",
            "1   53      M         lawyer    90703       4  877888877  Toy Story (1995)   \n",
            "1   47      M       educator    29206       3  882140487  Toy Story (1995)   \n",
            "1   49      F       educator    97301       1  879455635  Toy Story (1995)   \n",
            "1   21      M  entertainment    10309       5  877717833  Toy Story (1995)   \n",
            "1   30      M     programmer    06355       4  885272579  Toy Story (1995)   \n",
            "1   35      F          other    37212       5  880130802  Toy Story (1995)   \n",
            "1   42      F      homemaker    95660       3  879667963  Toy Story (1995)   \n",
            "1   26      M         writer    30068       5  874951244  Toy Story (1995)   \n",
            "1   30      F         artist    48197       5  874784615  Toy Story (1995)   \n",
            "1   39      M       engineer    55107       5  885853415  Toy Story (1995)   \n",
            "1   49      M       engineer    21044       3  891350625  Toy Story (1995)   \n",
            "1   28      F          other    54467       5  892430636  Toy Story (1995)   \n",
            "1   33      M       engineer    80525       4  890692860  Toy Story (1995)   \n",
            "1   30      M  administrator    17870       5  881105633  Toy Story (1995)   \n",
            "1   29      F      librarian    20854       5  875975579  Toy Story (1995)   \n",
            "1   26      M     technician    46260       4  878341315  Toy Story (1995)   \n",
            "1   29      M     programmer    50233       5  881013176  Toy Story (1995)   \n",
            "1   23      F        student    76111       2  888068651  Toy Story (1995)   \n",
            "1   22      M      executive    66315       4  880931595  Toy Story (1995)   \n",
            "1   25      M      librarian    46260       4  892683248  Toy Story (1995)   \n",
            "1   16      M           none    84010       5  883698581  Toy Story (1995)   \n",
            "1   27      M     programmer    52246       5  884304483  Toy Story (1995)   \n",
            "1   49      M       educator    08403       2  888203053  Toy Story (1995)   \n",
            "1   27      F  administrator    97214       2  879372813  Toy Story (1995)   \n",
            "1   31      M      marketing    75240       3  875747368  Toy Story (1995)   \n",
            "1   32      M       educator    43202       4  879366214  Toy Story (1995)   \n",
            "1   51      F       educator    48118       3  879217290  Toy Story (1995)   \n",
            "1   23      M        student    80521       3  883601324  Toy Story (1995)   \n",
            "1   17      M        student    60402       3  875379445  Toy Story (1995)   \n",
            "1   27      M       engineer    60067       4  884065277  Toy Story (1995)   \n",
            "1   48      F  administrator    73034       4  880035614  Toy Story (1995)   \n",
            "1   24      M        student    41850       2  888626065  Toy Story (1995)   \n",
            "1   24      M  entertainment    08816       4  884050018  Toy Story (1995)   \n",
            "1   30      M     technician    29379       5  884732808  Toy Story (1995)   \n",
            "1   39      F  administrator    03755       4  891271870  Toy Story (1995)   \n",
            "1   21      M        student    21218       4  876534949  Toy Story (1995)   \n",
            "1   50      M     programmer    22902       4  876311241  Toy Story (1995)   \n",
            "1   40      M          other    44133       4  880306903  Toy Story (1995)   \n",
            "1   32      M      executive    55369       2  883452108  Toy Story (1995)   \n",
            "1   43      F  administrator    68106       5  879461219  Toy Story (1995)   \n",
            "1   32      M  entertainment    80525       4  875810511  Toy Story (1995)   \n",
            "1   48      M      executive    23112       5  888705321  Toy Story (1995)   \n",
            "1   26      M        student    71457       4  885870323  Toy Story (1995)   \n",
            "1   31      M  administrator    10707       5  879197329  Toy Story (1995)   \n",
            "1   25      F         artist    75206       5  884403574  Toy Story (1995)   \n",
            "1   43      M         artist    98006       4  884238911  Toy Story (1995)   \n",
            "\n",
            "   Drama  Romance  Sci-Fi    year  \n",
            "1      0        0       0  1995.0  \n",
            "1      0        0       0  1995.0  \n",
            "1      0        0       0  1995.0  \n",
            "1      0        0       0  1995.0  \n",
            "1      0        0       0  1995.0  \n",
            "1      0        0       0  1995.0  \n",
            "1      0        0       0  1995.0  \n",
            "1      0        0       0  1995.0  \n",
            "1      0        0       0  1995.0  \n",
            "1      0        0       0  1995.0  \n",
            "1      0        0       0  1995.0  \n",
            "1      0        0       0  1995.0  \n",
            "1      0        0       0  1995.0  \n",
            "1      0        0       0  1995.0  \n",
            "1      0        0       0  1995.0  \n",
            "1      0        0       0  1995.0  \n",
            "1      0        0       0  1995.0  \n",
            "1      0        0       0  1995.0  \n",
            "1      0        0       0  1995.0  \n",
            "1      0        0       0  1995.0  \n",
            "1      0        0       0  1995.0  \n",
            "1      0        0       0  1995.0  \n",
            "1      0        0       0  1995.0  \n",
            "1      0        0       0  1995.0  \n",
            "1      0        0       0  1995.0  \n",
            "1      0        0       0  1995.0  \n",
            "1      0        0       0  1995.0  \n",
            "1      0        0       0  1995.0  \n",
            "1      0        0       0  1995.0  \n",
            "1      0        0       0  1995.0  \n",
            "1      0        0       0  1995.0  \n",
            "1      0        0       0  1995.0  \n",
            "1      0        0       0  1995.0  \n",
            "1      0        0       0  1995.0  \n",
            "1      0        0       0  1995.0  \n",
            "1      0        0       0  1995.0  \n",
            "1      0        0       0  1995.0  \n",
            "1      0        0       0  1995.0  \n",
            "1      0        0       0  1995.0  \n",
            "1      0        0       0  1995.0  \n",
            "1      0        0       0  1995.0  \n",
            "1      0        0       0  1995.0  \n",
            "1      0        0       0  1995.0  \n",
            "1      0        0       0  1995.0  \n",
            "1      0        0       0  1995.0  \n",
            "1      0        0       0  1995.0  \n",
            "1      0        0       0  1995.0  \n",
            "1      0        0       0  1995.0  \n",
            "1      0        0       0  1995.0  \n",
            "1      0        0       0  1995.0  \n"
          ]
        }
      ]
    },
    {
      "cell_type": "code",
      "source": [
        "#print(df2)\n",
        "print(df2.groupby(\"gender\").sum())\n",
        "print(df2[\"gender\"].value_counts())\n",
        "\n",
        "serie_movie_man = df2.groupby(\"gender\").sum().loc[\"M\"]\n",
        "serie_movie_woman = df2.groupby(\"gender\").sum().loc[\"F\"]\n",
        "total_man = df2[\"gender\"].value_counts()[\"M\"]\n",
        "total_woman = df2[\"gender\"].value_counts()[\"F\"]\n",
        "print(serie_movie_man)\n",
        "print(\"man/woman ratio for Drama:\")\n",
        "x = (serie_movie_man[\"Drama\"]/total_man)/(serie_movie_woman[\"Drama\"]/total_woman)\n",
        "print (x)\n",
        "print(\"man/woman ratio for Romance:\")\n",
        "x = (serie_movie_man[\"Romance\"]/total_man)/(serie_movie_woman[\"Romance\"]/total_woman)\n",
        "print (x)\n",
        "print(\"man/woman ratio for Sci-Fi:\")\n",
        "x = (serie_movie_man[\"Sci-Fi\"]/total_man)/(serie_movie_woman[\"Sci-Fi\"]/total_woman)\n",
        "print (x)"
      ],
      "metadata": {
        "colab": {
          "base_uri": "https://localhost:8080/"
        },
        "id": "R4nRpRCwIvrM",
        "outputId": "37e6b1e3-aeea-40f8-8d65-fc809235e5b8"
      },
      "execution_count": null,
      "outputs": [
        {
          "output_type": "stream",
          "name": "stdout",
          "text": [
            "            age  rating       timestamp  Drama  Romance  Sci-Fi         year\n",
            "gender                                                                      \n",
            "F        831781   90901  22750324303258  11008     5858    2629   51177156.0\n",
            "M       2465204  262085  65602560845604  28887    13603   10101  147600574.0\n",
            "M    74260\n",
            "F    25740\n",
            "Name: gender, dtype: int64\n",
            "age          2.465204e+06\n",
            "rating       2.620850e+05\n",
            "timestamp    6.560256e+13\n",
            "Drama        2.888700e+04\n",
            "Romance      1.360300e+04\n",
            "Sci-Fi       1.010100e+04\n",
            "year         1.476006e+08\n",
            "Name: M, dtype: float64\n",
            "man/woman ratio for Drama:\n",
            "0.9095940655161938\n",
            "man/woman ratio for Romance:\n",
            "0.8048944418202697\n",
            "man/woman ratio for Sci-Fi:\n",
            "1.3317643426297066\n"
          ]
        }
      ]
    },
    {
      "cell_type": "markdown",
      "source": [
        "o Men watch more drama than women = False\n",
        "\n",
        "o Men watch more Romance than women = False\n",
        "\n",
        "o Women watch more Sci-Fi than men = False"
      ],
      "metadata": {
        "id": "esRrJ1y8kZRd"
      }
    }
  ]
}